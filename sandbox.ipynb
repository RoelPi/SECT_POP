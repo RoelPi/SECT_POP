{
 "nbformat": 4,
 "nbformat_minor": 2,
 "metadata": {
  "language_info": {
   "name": "python",
   "codemirror_mode": {
    "name": "ipython",
    "version": 3
   },
   "version": "3.6.6"
  },
  "orig_nbformat": 2,
  "file_extension": ".py",
  "mimetype": "text/x-python",
  "name": "python",
  "npconvert_exporter": "python",
  "pygments_lexer": "ipython3",
  "version": 3
 },
 "cells": [
  {
   "cell_type": "code",
   "execution_count": 49,
   "metadata": {},
   "outputs": [],
   "source": [
    "import pandas as pd\n",
    "import matplotlib.pyplot as plt\n",
    "import os\n",
    "import re\n"
   ]
  },
  {
   "cell_type": "code",
   "execution_count": 50,
   "metadata": {},
   "outputs": [
    {
     "name": "stdout",
     "output_type": "stream",
     "text": "Fixed erroneous column name.\nd:\\Python\\SECT_POP\\.env\\lib\\site-packages\\ipykernel_launcher.py:22: FutureWarning: Sorting because non-concatenation axis is not aligned. A future version\nof pandas will change to not sort by default.\n\nTo accept the future behavior, pass 'sort=False'.\n\nTo retain the current behavior and silence the warning, pass 'sort=True'.\n\n"
    }
   ],
   "source": [
    "os.chdir('D:\\Python\\SECT_POP')\n",
    "\n",
    "path = 'data'\n",
    "\n",
    "files = []\n",
    "\n",
    "# r=root, d=directories, f = files\n",
    "for r, d, f in os.walk(path):\n",
    "    for file in f:\n",
    "        if re.search('SECTOR(S|EN).*xlsx',file):\n",
    "            files.append(os.path.join(r, file))\n",
    "\n",
    "            datasets = []\n",
    "for i, file in enumerate(files):\n",
    "    df = pd.read_excel(file)\n",
    "    if 'OPPERVLAKKTE IN HM²' in df.columns:\n",
    "        df = df.rename(columns = {'OPPERVLAKKTE IN HM²':'OPPERVLAKTE IN HM²'})\n",
    "        print('Fixed erroneous column name.')\n",
    "    df['JAAR'] = file[-9:-5]\n",
    "    datasets.append(df)\n",
    "\n",
    "df = pd.concat(datasets)\n"
   ]
  },
  {
   "cell_type": "code",
   "execution_count": null,
   "metadata": {},
   "outputs": [],
   "source": [
    "tax = pd.read_excel('data\\TF_PSNL_INC_TAX_SECTOR.xlsx', converters = {'CD_YEAR':str, 'CD_REFNIS_SECTOR':str})"
   ]
  },
  {
   "cell_type": "code",
   "execution_count": 65,
   "metadata": {},
   "outputs": [],
   "source": [
    "immo = pd.read_excel('data\\TF_IMMO_SECTOR.xlsx', dtype=str)\n",
    "immo = immo.rename(columns={'CD_STAT_SECTOR':'CD_REFNIS_SECTOR'})"
   ]
  },
  {
   "cell_type": "code",
   "execution_count": 59,
   "metadata": {},
   "outputs": [],
   "source": [
    "df = df[df['TX_DESCR_NL'] == 'Destelbergen']\n",
    "df = df[['JAAR','CD_REFNIS','CD_SECTOR','OPPERVLAKTE IN HM²','POPULATION','TX_DESCR_NL','TX_DESCR_SECTOR_NL']]\n",
    "df['CD_REFNIS_SECTOR'] = df['CD_REFNIS'].map(str) + df['CD_SECTOR'].map(str)"
   ]
  },
  {
   "cell_type": "code",
   "execution_count": 52,
   "metadata": {},
   "outputs": [
    {
     "data": {
      "text/html": "<div>\n<style scoped>\n    .dataframe tbody tr th:only-of-type {\n        vertical-align: middle;\n    }\n\n    .dataframe tbody tr th {\n        vertical-align: top;\n    }\n\n    .dataframe thead th {\n        text-align: right;\n    }\n</style>\n<table border=\"1\" class=\"dataframe\">\n  <thead>\n    <tr style=\"text-align: right;\">\n      <th></th>\n      <th>JAAR</th>\n      <th>CD_REFNIS</th>\n      <th>CD_SECTOR</th>\n      <th>OPPERVLAKTE IN HM²</th>\n      <th>POPULATION</th>\n      <th>TX_DESCR_NL</th>\n      <th>TX_DESCR_SECTOR_NL</th>\n    </tr>\n  </thead>\n  <tbody>\n    <tr>\n      <th>2019_44013A00-</th>\n      <td>2019</td>\n      <td>44013</td>\n      <td>44013A00-</td>\n      <td>39.305953</td>\n      <td>635</td>\n      <td>Destelbergen</td>\n      <td>DESTELBERGEN-DORP</td>\n    </tr>\n    <tr>\n      <th>2019_44013A011</th>\n      <td>2019</td>\n      <td>44013</td>\n      <td>44013A011</td>\n      <td>54.723231</td>\n      <td>1067</td>\n      <td>Destelbergen</td>\n      <td>BORREMS</td>\n    </tr>\n    <tr>\n      <th>2019_44013A022</th>\n      <td>2019</td>\n      <td>44013</td>\n      <td>44013A022</td>\n      <td>79.743017</td>\n      <td>474</td>\n      <td>Destelbergen</td>\n      <td>RAMEN</td>\n    </tr>\n    <tr>\n      <th>2019_44013A033</th>\n      <td>2019</td>\n      <td>44013</td>\n      <td>44013A033</td>\n      <td>61.495175</td>\n      <td>880</td>\n      <td>Destelbergen</td>\n      <td>HUL</td>\n    </tr>\n    <tr>\n      <th>2019_44013A042</th>\n      <td>2019</td>\n      <td>44013</td>\n      <td>44013A042</td>\n      <td>89.295734</td>\n      <td>763</td>\n      <td>Destelbergen</td>\n      <td>DE DAM - VISSERSHOEK</td>\n    </tr>\n    <tr>\n      <th>...</th>\n      <td>...</td>\n      <td>...</td>\n      <td>...</td>\n      <td>...</td>\n      <td>...</td>\n      <td>...</td>\n      <td>...</td>\n    </tr>\n    <tr>\n      <th>2017_B191</th>\n      <td>2017</td>\n      <td>44013</td>\n      <td>B191</td>\n      <td>134.327128</td>\n      <td>361</td>\n      <td>Destelbergen</td>\n      <td>VEERHOEK</td>\n    </tr>\n    <tr>\n      <th>2017_B20-</th>\n      <td>2017</td>\n      <td>44013</td>\n      <td>B20-</td>\n      <td>31.779181</td>\n      <td>197</td>\n      <td>Destelbergen</td>\n      <td>MELLEHOEK</td>\n    </tr>\n    <tr>\n      <th>2017_B312</th>\n      <td>2017</td>\n      <td>44013</td>\n      <td>B312</td>\n      <td>65.743123</td>\n      <td>588</td>\n      <td>Destelbergen</td>\n      <td>STAPSTEEN</td>\n    </tr>\n    <tr>\n      <th>2017_B392</th>\n      <td>2017</td>\n      <td>44013</td>\n      <td>B392</td>\n      <td>248.868614</td>\n      <td>130</td>\n      <td>Destelbergen</td>\n      <td>DE POELEN</td>\n    </tr>\n    <tr>\n      <th>2017_ZZZZ</th>\n      <td>2017</td>\n      <td>44013</td>\n      <td>ZZZZ</td>\n      <td>0.000000</td>\n      <td>0</td>\n      <td>Destelbergen</td>\n      <td>NIET TE LOKALISEREN IN EEN SECTOR</td>\n    </tr>\n  </tbody>\n</table>\n<p>208 rows × 7 columns</p>\n</div>",
      "text/plain": "                JAAR  CD_REFNIS  CD_SECTOR  OPPERVLAKTE IN HM²  POPULATION  \\\n2019_44013A00-  2019      44013  44013A00-           39.305953         635   \n2019_44013A011  2019      44013  44013A011           54.723231        1067   \n2019_44013A022  2019      44013  44013A022           79.743017         474   \n2019_44013A033  2019      44013  44013A033           61.495175         880   \n2019_44013A042  2019      44013  44013A042           89.295734         763   \n...              ...        ...        ...                 ...         ...   \n2017_B191       2017      44013       B191          134.327128         361   \n2017_B20-       2017      44013       B20-           31.779181         197   \n2017_B312       2017      44013       B312           65.743123         588   \n2017_B392       2017      44013       B392          248.868614         130   \n2017_ZZZZ       2017      44013       ZZZZ            0.000000           0   \n\n                 TX_DESCR_NL                 TX_DESCR_SECTOR_NL  \n2019_44013A00-  Destelbergen                  DESTELBERGEN-DORP  \n2019_44013A011  Destelbergen                            BORREMS  \n2019_44013A022  Destelbergen                              RAMEN  \n2019_44013A033  Destelbergen                                HUL  \n2019_44013A042  Destelbergen               DE DAM - VISSERSHOEK  \n...                      ...                                ...  \n2017_B191       Destelbergen                           VEERHOEK  \n2017_B20-       Destelbergen                          MELLEHOEK  \n2017_B312       Destelbergen                          STAPSTEEN  \n2017_B392       Destelbergen                          DE POELEN  \n2017_ZZZZ       Destelbergen  NIET TE LOKALISEREN IN EEN SECTOR  \n\n[208 rows x 7 columns]"
     },
     "execution_count": 52,
     "metadata": {},
     "output_type": "execute_result"
    }
   ],
   "source": [
    "df.set_index(df['JAAR'].map(str) + '_' + df['CD_SECTOR'].map(str))"
   ]
  },
  {
   "cell_type": "code",
   "execution_count": 57,
   "metadata": {},
   "outputs": [],
   "source": [
    "tax = tax[['CD_YEAR','CD_REFNIS_SECTOR','MS_NBR_NON_ZERO_INC','MS_TOT_NET_TAXABLE_INC','MS_AVG_TOT_NET_TAXABLE_INC','MS_MEDIAN_NET_TAXABLE_INC','MS_INT_QUART_DIFF','MS_INT_QUART_COEFF','MS_INT_QUART_ASSYM']]\n",
    "\n",
    "destelbergen = df.merge(tax, left_on = ['JAAR','CD_REFNIS_SECTOR'], right_on = ['CD_YEAR','CD_REFNIS_SECTOR'], how = 'left')\n",
    "\n",
    "\n"
   ]
  },
  {
   "cell_type": "code",
   "execution_count": 58,
   "metadata": {},
   "outputs": [
    {
     "data": {
      "text/html": "<div>\n<style scoped>\n    .dataframe tbody tr th:only-of-type {\n        vertical-align: middle;\n    }\n\n    .dataframe tbody tr th {\n        vertical-align: top;\n    }\n\n    .dataframe thead th {\n        text-align: right;\n    }\n</style>\n<table border=\"1\" class=\"dataframe\">\n  <thead>\n    <tr style=\"text-align: right;\">\n      <th></th>\n      <th>JAAR</th>\n      <th>CD_REFNIS</th>\n      <th>CD_SECTOR</th>\n      <th>OPPERVLAKTE IN HM²</th>\n      <th>POPULATION</th>\n      <th>TX_DESCR_NL</th>\n      <th>TX_DESCR_SECTOR_NL</th>\n      <th>CD_REFNIS_SECTOR</th>\n      <th>CD_YEAR</th>\n      <th>MS_NBR_NON_ZERO_INC</th>\n      <th>MS_TOT_NET_TAXABLE_INC</th>\n      <th>MS_AVG_TOT_NET_TAXABLE_INC</th>\n      <th>MS_MEDIAN_NET_TAXABLE_INC</th>\n      <th>MS_INT_QUART_DIFF</th>\n      <th>MS_INT_QUART_COEFF</th>\n      <th>MS_INT_QUART_ASSYM</th>\n    </tr>\n  </thead>\n  <tbody>\n    <tr>\n      <th>203</th>\n      <td>2017</td>\n      <td>44013</td>\n      <td>B191</td>\n      <td>134.327128</td>\n      <td>361</td>\n      <td>Destelbergen</td>\n      <td>VEERHOEK</td>\n      <td>44013B191</td>\n      <td>2017</td>\n      <td>196.0</td>\n      <td>7691777.85</td>\n      <td>39243.764541</td>\n      <td>28703.420</td>\n      <td>33761.38</td>\n      <td>117.621454</td>\n      <td>24.254785</td>\n    </tr>\n    <tr>\n      <th>204</th>\n      <td>2017</td>\n      <td>44013</td>\n      <td>B20-</td>\n      <td>31.779181</td>\n      <td>197</td>\n      <td>Destelbergen</td>\n      <td>MELLEHOEK</td>\n      <td>44013B20-</td>\n      <td>2017</td>\n      <td>102.0</td>\n      <td>5248108.94</td>\n      <td>51452.048431</td>\n      <td>30393.305</td>\n      <td>36512.47</td>\n      <td>120.133266</td>\n      <td>35.001576</td>\n    </tr>\n    <tr>\n      <th>205</th>\n      <td>2017</td>\n      <td>44013</td>\n      <td>B312</td>\n      <td>65.743123</td>\n      <td>588</td>\n      <td>Destelbergen</td>\n      <td>STAPSTEEN</td>\n      <td>44013B312</td>\n      <td>2017</td>\n      <td>298.0</td>\n      <td>16193961.77</td>\n      <td>54342.153591</td>\n      <td>36152.040</td>\n      <td>51650.79</td>\n      <td>142.871025</td>\n      <td>31.691732</td>\n    </tr>\n    <tr>\n      <th>206</th>\n      <td>2017</td>\n      <td>44013</td>\n      <td>B392</td>\n      <td>248.868614</td>\n      <td>130</td>\n      <td>Destelbergen</td>\n      <td>DE POELEN</td>\n      <td>44013B392</td>\n      <td>2017</td>\n      <td>73.0</td>\n      <td>2868193.46</td>\n      <td>39290.321370</td>\n      <td>34530.360</td>\n      <td>28804.63</td>\n      <td>83.418273</td>\n      <td>-3.545854</td>\n    </tr>\n    <tr>\n      <th>207</th>\n      <td>2017</td>\n      <td>44013</td>\n      <td>ZZZZ</td>\n      <td>0.000000</td>\n      <td>0</td>\n      <td>Destelbergen</td>\n      <td>NIET TE LOKALISEREN IN EEN SECTOR</td>\n      <td>44013ZZZZ</td>\n      <td>2017</td>\n      <td>16.0</td>\n      <td>NaN</td>\n      <td>NaN</td>\n      <td>NaN</td>\n      <td>NaN</td>\n      <td>NaN</td>\n      <td>NaN</td>\n    </tr>\n  </tbody>\n</table>\n</div>",
      "text/plain": "     JAAR  CD_REFNIS CD_SECTOR  OPPERVLAKTE IN HM²  POPULATION   TX_DESCR_NL  \\\n203  2017      44013      B191          134.327128         361  Destelbergen   \n204  2017      44013      B20-           31.779181         197  Destelbergen   \n205  2017      44013      B312           65.743123         588  Destelbergen   \n206  2017      44013      B392          248.868614         130  Destelbergen   \n207  2017      44013      ZZZZ            0.000000           0  Destelbergen   \n\n                    TX_DESCR_SECTOR_NL CD_REFNIS_SECTOR CD_YEAR  \\\n203                           VEERHOEK        44013B191    2017   \n204                          MELLEHOEK        44013B20-    2017   \n205                          STAPSTEEN        44013B312    2017   \n206                          DE POELEN        44013B392    2017   \n207  NIET TE LOKALISEREN IN EEN SECTOR        44013ZZZZ    2017   \n\n     MS_NBR_NON_ZERO_INC  MS_TOT_NET_TAXABLE_INC  MS_AVG_TOT_NET_TAXABLE_INC  \\\n203                196.0              7691777.85                39243.764541   \n204                102.0              5248108.94                51452.048431   \n205                298.0             16193961.77                54342.153591   \n206                 73.0              2868193.46                39290.321370   \n207                 16.0                     NaN                         NaN   \n\n     MS_MEDIAN_NET_TAXABLE_INC  MS_INT_QUART_DIFF  MS_INT_QUART_COEFF  \\\n203                  28703.420           33761.38          117.621454   \n204                  30393.305           36512.47          120.133266   \n205                  36152.040           51650.79          142.871025   \n206                  34530.360           28804.63           83.418273   \n207                        NaN                NaN                 NaN   \n\n     MS_INT_QUART_ASSYM  \n203           24.254785  \n204           35.001576  \n205           31.691732  \n206           -3.545854  \n207                 NaN  "
     },
     "execution_count": 58,
     "metadata": {},
     "output_type": "execute_result"
    }
   ],
   "source": [
    "destelbergen.tail()\n"
   ]
  }
 ]
}